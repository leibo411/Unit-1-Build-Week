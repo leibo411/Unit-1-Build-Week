{
  "nbformat": 4,
  "nbformat_minor": 0,
  "metadata": {
    "colab": {
      "name": "William_Leibundgut_Unit1Project.ipynb",
      "provenance": [],
      "collapsed_sections": [],
      "authorship_tag": "ABX9TyNwo2tYFNz4VxUcOA0eJGlH",
      "include_colab_link": true
    },
    "kernelspec": {
      "name": "python3",
      "display_name": "Python 3"
    }
  },
  "cells": [
    {
      "cell_type": "markdown",
      "metadata": {
        "id": "view-in-github",
        "colab_type": "text"
      },
      "source": [
        "<a href=\"https://colab.research.google.com/github/leibo411/Unit-1-Build-Week/blob/main/William_Leibundgut_Unit1Project.ipynb\" target=\"_parent\"><img src=\"https://colab.research.google.com/assets/colab-badge.svg\" alt=\"Open In Colab\"/></a>"
      ]
    },
    {
      "cell_type": "code",
      "metadata": {
        "id": "MJ-RvGCCNXE1"
      },
      "source": [
        "import pandas as pd\n",
        "import numpy as np\n",
        "import matplotlib.pyplot as plt\n"
      ],
      "execution_count": 1,
      "outputs": []
    },
    {
      "cell_type": "code",
      "metadata": {
        "id": "E0BG_OkNNd-C"
      },
      "source": [
        "df = pd.read_csv('https://www.ndbc.noaa.gov/view_text_file.php?filename=44098h2019.txt.gz&dir=data/historical/stdmet/', delimiter= '\\s+', index_col=False)"
      ],
      "execution_count": 2,
      "outputs": []
    },
    {
      "cell_type": "code",
      "metadata": {
        "id": "4WJVMNzfRwiY",
        "colab": {
          "base_uri": "https://localhost:8080/",
          "height": 204
        },
        "outputId": "57bde693-9ba8-4d36-de0f-aa166146ecf2"
      },
      "source": [
        "df.head()"
      ],
      "execution_count": 3,
      "outputs": [
        {
          "output_type": "execute_result",
          "data": {
            "text/html": [
              "<div>\n",
              "<style scoped>\n",
              "    .dataframe tbody tr th:only-of-type {\n",
              "        vertical-align: middle;\n",
              "    }\n",
              "\n",
              "    .dataframe tbody tr th {\n",
              "        vertical-align: top;\n",
              "    }\n",
              "\n",
              "    .dataframe thead th {\n",
              "        text-align: right;\n",
              "    }\n",
              "</style>\n",
              "<table border=\"1\" class=\"dataframe\">\n",
              "  <thead>\n",
              "    <tr style=\"text-align: right;\">\n",
              "      <th></th>\n",
              "      <th>#YY</th>\n",
              "      <th>MM</th>\n",
              "      <th>DD</th>\n",
              "      <th>hh</th>\n",
              "      <th>mm</th>\n",
              "      <th>WDIR</th>\n",
              "      <th>WSPD</th>\n",
              "      <th>GST</th>\n",
              "      <th>WVHT</th>\n",
              "      <th>DPD</th>\n",
              "      <th>APD</th>\n",
              "      <th>MWD</th>\n",
              "      <th>PRES</th>\n",
              "      <th>ATMP</th>\n",
              "      <th>WTMP</th>\n",
              "      <th>DEWP</th>\n",
              "      <th>VIS</th>\n",
              "      <th>TIDE</th>\n",
              "    </tr>\n",
              "  </thead>\n",
              "  <tbody>\n",
              "    <tr>\n",
              "      <th>0</th>\n",
              "      <td>#yr</td>\n",
              "      <td>mo</td>\n",
              "      <td>dy</td>\n",
              "      <td>hr</td>\n",
              "      <td>mn</td>\n",
              "      <td>degT</td>\n",
              "      <td>m/s</td>\n",
              "      <td>m/s</td>\n",
              "      <td>m</td>\n",
              "      <td>sec</td>\n",
              "      <td>sec</td>\n",
              "      <td>degT</td>\n",
              "      <td>hPa</td>\n",
              "      <td>degC</td>\n",
              "      <td>degC</td>\n",
              "      <td>degC</td>\n",
              "      <td>mi</td>\n",
              "      <td>ft</td>\n",
              "    </tr>\n",
              "    <tr>\n",
              "      <th>1</th>\n",
              "      <td>2019</td>\n",
              "      <td>01</td>\n",
              "      <td>01</td>\n",
              "      <td>00</td>\n",
              "      <td>08</td>\n",
              "      <td>999</td>\n",
              "      <td>99.0</td>\n",
              "      <td>99.0</td>\n",
              "      <td>1.42</td>\n",
              "      <td>5.00</td>\n",
              "      <td>4.38</td>\n",
              "      <td>186</td>\n",
              "      <td>9999.0</td>\n",
              "      <td>999.0</td>\n",
              "      <td>7.3</td>\n",
              "      <td>999.0</td>\n",
              "      <td>99.0</td>\n",
              "      <td>99.00</td>\n",
              "    </tr>\n",
              "    <tr>\n",
              "      <th>2</th>\n",
              "      <td>2019</td>\n",
              "      <td>01</td>\n",
              "      <td>01</td>\n",
              "      <td>00</td>\n",
              "      <td>38</td>\n",
              "      <td>999</td>\n",
              "      <td>99.0</td>\n",
              "      <td>99.0</td>\n",
              "      <td>1.43</td>\n",
              "      <td>5.00</td>\n",
              "      <td>4.50</td>\n",
              "      <td>193</td>\n",
              "      <td>9999.0</td>\n",
              "      <td>999.0</td>\n",
              "      <td>7.3</td>\n",
              "      <td>999.0</td>\n",
              "      <td>99.0</td>\n",
              "      <td>99.00</td>\n",
              "    </tr>\n",
              "    <tr>\n",
              "      <th>3</th>\n",
              "      <td>2019</td>\n",
              "      <td>01</td>\n",
              "      <td>01</td>\n",
              "      <td>01</td>\n",
              "      <td>08</td>\n",
              "      <td>999</td>\n",
              "      <td>99.0</td>\n",
              "      <td>99.0</td>\n",
              "      <td>1.41</td>\n",
              "      <td>5.26</td>\n",
              "      <td>4.46</td>\n",
              "      <td>186</td>\n",
              "      <td>9999.0</td>\n",
              "      <td>999.0</td>\n",
              "      <td>7.2</td>\n",
              "      <td>999.0</td>\n",
              "      <td>99.0</td>\n",
              "      <td>99.00</td>\n",
              "    </tr>\n",
              "    <tr>\n",
              "      <th>4</th>\n",
              "      <td>2019</td>\n",
              "      <td>01</td>\n",
              "      <td>01</td>\n",
              "      <td>01</td>\n",
              "      <td>38</td>\n",
              "      <td>999</td>\n",
              "      <td>99.0</td>\n",
              "      <td>99.0</td>\n",
              "      <td>1.40</td>\n",
              "      <td>5.00</td>\n",
              "      <td>4.37</td>\n",
              "      <td>182</td>\n",
              "      <td>9999.0</td>\n",
              "      <td>999.0</td>\n",
              "      <td>7.2</td>\n",
              "      <td>999.0</td>\n",
              "      <td>99.0</td>\n",
              "      <td>99.00</td>\n",
              "    </tr>\n",
              "  </tbody>\n",
              "</table>\n",
              "</div>"
            ],
            "text/plain": [
              "    #YY  MM  DD  hh  mm  WDIR  ...    PRES   ATMP  WTMP   DEWP   VIS   TIDE\n",
              "0   #yr  mo  dy  hr  mn  degT  ...     hPa   degC  degC   degC    mi     ft\n",
              "1  2019  01  01  00  08   999  ...  9999.0  999.0   7.3  999.0  99.0  99.00\n",
              "2  2019  01  01  00  38   999  ...  9999.0  999.0   7.3  999.0  99.0  99.00\n",
              "3  2019  01  01  01  08   999  ...  9999.0  999.0   7.2  999.0  99.0  99.00\n",
              "4  2019  01  01  01  38   999  ...  9999.0  999.0   7.2  999.0  99.0  99.00\n",
              "\n",
              "[5 rows x 18 columns]"
            ]
          },
          "metadata": {
            "tags": []
          },
          "execution_count": 3
        }
      ]
    },
    {
      "cell_type": "code",
      "metadata": {
        "id": "2j6szw1lSDtQ"
      },
      "source": [
        "#removal of unnecessary columns and the first row\n",
        "del df['PRES']\n",
        "del df['WTMP']\n",
        "del df['VIS']\n",
        "del df['TIDE']\n",
        "del df['DEWP']\n",
        "del df['MWD']\n",
        "del df['ATMP']\n",
        "del df['GST']\n",
        "del df['WDIR']\n",
        "del df['WSPD']\n",
        "df = df.iloc[1:]"
      ],
      "execution_count": 4,
      "outputs": []
    },
    {
      "cell_type": "code",
      "metadata": {
        "id": "MJeeIN10T_0_",
        "colab": {
          "base_uri": "https://localhost:8080/",
          "height": 204
        },
        "outputId": "663b0f63-c07a-4561-f152-38fc247fef13"
      },
      "source": [
        "df.head()"
      ],
      "execution_count": 5,
      "outputs": [
        {
          "output_type": "execute_result",
          "data": {
            "text/html": [
              "<div>\n",
              "<style scoped>\n",
              "    .dataframe tbody tr th:only-of-type {\n",
              "        vertical-align: middle;\n",
              "    }\n",
              "\n",
              "    .dataframe tbody tr th {\n",
              "        vertical-align: top;\n",
              "    }\n",
              "\n",
              "    .dataframe thead th {\n",
              "        text-align: right;\n",
              "    }\n",
              "</style>\n",
              "<table border=\"1\" class=\"dataframe\">\n",
              "  <thead>\n",
              "    <tr style=\"text-align: right;\">\n",
              "      <th></th>\n",
              "      <th>#YY</th>\n",
              "      <th>MM</th>\n",
              "      <th>DD</th>\n",
              "      <th>hh</th>\n",
              "      <th>mm</th>\n",
              "      <th>WVHT</th>\n",
              "      <th>DPD</th>\n",
              "      <th>APD</th>\n",
              "    </tr>\n",
              "  </thead>\n",
              "  <tbody>\n",
              "    <tr>\n",
              "      <th>1</th>\n",
              "      <td>2019</td>\n",
              "      <td>01</td>\n",
              "      <td>01</td>\n",
              "      <td>00</td>\n",
              "      <td>08</td>\n",
              "      <td>1.42</td>\n",
              "      <td>5.00</td>\n",
              "      <td>4.38</td>\n",
              "    </tr>\n",
              "    <tr>\n",
              "      <th>2</th>\n",
              "      <td>2019</td>\n",
              "      <td>01</td>\n",
              "      <td>01</td>\n",
              "      <td>00</td>\n",
              "      <td>38</td>\n",
              "      <td>1.43</td>\n",
              "      <td>5.00</td>\n",
              "      <td>4.50</td>\n",
              "    </tr>\n",
              "    <tr>\n",
              "      <th>3</th>\n",
              "      <td>2019</td>\n",
              "      <td>01</td>\n",
              "      <td>01</td>\n",
              "      <td>01</td>\n",
              "      <td>08</td>\n",
              "      <td>1.41</td>\n",
              "      <td>5.26</td>\n",
              "      <td>4.46</td>\n",
              "    </tr>\n",
              "    <tr>\n",
              "      <th>4</th>\n",
              "      <td>2019</td>\n",
              "      <td>01</td>\n",
              "      <td>01</td>\n",
              "      <td>01</td>\n",
              "      <td>38</td>\n",
              "      <td>1.40</td>\n",
              "      <td>5.00</td>\n",
              "      <td>4.37</td>\n",
              "    </tr>\n",
              "    <tr>\n",
              "      <th>5</th>\n",
              "      <td>2019</td>\n",
              "      <td>01</td>\n",
              "      <td>01</td>\n",
              "      <td>02</td>\n",
              "      <td>08</td>\n",
              "      <td>1.40</td>\n",
              "      <td>5.26</td>\n",
              "      <td>4.43</td>\n",
              "    </tr>\n",
              "  </tbody>\n",
              "</table>\n",
              "</div>"
            ],
            "text/plain": [
              "    #YY  MM  DD  hh  mm  WVHT   DPD   APD\n",
              "1  2019  01  01  00  08  1.42  5.00  4.38\n",
              "2  2019  01  01  00  38  1.43  5.00  4.50\n",
              "3  2019  01  01  01  08  1.41  5.26  4.46\n",
              "4  2019  01  01  01  38  1.40  5.00  4.37\n",
              "5  2019  01  01  02  08  1.40  5.26  4.43"
            ]
          },
          "metadata": {
            "tags": []
          },
          "execution_count": 5
        }
      ]
    },
    {
      "cell_type": "code",
      "metadata": {
        "id": "KsFuADaPUBKp",
        "colab": {
          "base_uri": "https://localhost:8080/"
        },
        "outputId": "28243b2e-aa1d-4709-b0ac-79e838ad64d2"
      },
      "source": [
        "df.isnull().sum()"
      ],
      "execution_count": 6,
      "outputs": [
        {
          "output_type": "execute_result",
          "data": {
            "text/plain": [
              "#YY     0\n",
              "MM      0\n",
              "DD      0\n",
              "hh      0\n",
              "mm      0\n",
              "WVHT    0\n",
              "DPD     0\n",
              "APD     0\n",
              "dtype: int64"
            ]
          },
          "metadata": {
            "tags": []
          },
          "execution_count": 6
        }
      ]
    },
    {
      "cell_type": "code",
      "metadata": {
        "id": "mGZ6GfVSUglV",
        "colab": {
          "base_uri": "https://localhost:8080/"
        },
        "outputId": "01c2ec8b-31ef-4daa-c47d-c6016ce2b2e3"
      },
      "source": [
        "#any numbers over 10 were considered strings so I had to convert them to numberic values\n",
        "df['WVHT'] = pd.to_numeric(df.WVHT)\n",
        "df['DPD'] = pd.to_numeric(df.DPD)\n",
        "df['APD'] = pd.to_numeric(df.APD)\n",
        "\n",
        "max_wvht = df['WVHT'].max()\n",
        "max_dpd = df['DPD'].max()\n",
        "max_apd = df['APD'].max()\n",
        "\n",
        "print(max_wvht)\n",
        "print(max_dpd)\n",
        "print(max_apd)"
      ],
      "execution_count": 7,
      "outputs": [
        {
          "output_type": "stream",
          "text": [
            "6.76\n",
            "18.18\n",
            "12.8\n"
          ],
          "name": "stdout"
        }
      ]
    },
    {
      "cell_type": "code",
      "metadata": {
        "id": "L_XryxKzWK82"
      },
      "source": [
        "# define some of our constant values \n",
        "import math\n",
        "rho = 1024 #density of saltwater in kg/m^3\n",
        "g = 9.81 #gravitational constant in m/s^2\n",
        "pi = math.pi #defines pi"
      ],
      "execution_count": 8,
      "outputs": []
    },
    {
      "cell_type": "code",
      "metadata": {
        "id": "S7E9G5QcnNIy",
        "colab": {
          "base_uri": "https://localhost:8080/"
        },
        "outputId": "abf559f9-000e-4d35-d744-b5497ece02f0"
      },
      "source": [
        "# calculate wave power for all T(dominant wave period) and H\n",
        "df['Wave Power'] = ((rho*g**2)/(64*pi))*df['WVHT']*df['DPD']\n",
        "max_wvpr = df['Wave Power'].max()\n",
        "print(max_wvpr)"
      ],
      "execution_count": 9,
      "outputs": [
        {
          "output_type": "stream",
          "text": [
            "40619.228102085544\n"
          ],
          "name": "stdout"
        }
      ]
    },
    {
      "cell_type": "code",
      "metadata": {
        "id": "1bwF7ZCPoX0y",
        "colab": {
          "base_uri": "https://localhost:8080/",
          "height": 204
        },
        "outputId": "71ada927-3bcd-450d-8c31-1eaef1c72050"
      },
      "source": [
        "df.head()"
      ],
      "execution_count": 10,
      "outputs": [
        {
          "output_type": "execute_result",
          "data": {
            "text/html": [
              "<div>\n",
              "<style scoped>\n",
              "    .dataframe tbody tr th:only-of-type {\n",
              "        vertical-align: middle;\n",
              "    }\n",
              "\n",
              "    .dataframe tbody tr th {\n",
              "        vertical-align: top;\n",
              "    }\n",
              "\n",
              "    .dataframe thead th {\n",
              "        text-align: right;\n",
              "    }\n",
              "</style>\n",
              "<table border=\"1\" class=\"dataframe\">\n",
              "  <thead>\n",
              "    <tr style=\"text-align: right;\">\n",
              "      <th></th>\n",
              "      <th>#YY</th>\n",
              "      <th>MM</th>\n",
              "      <th>DD</th>\n",
              "      <th>hh</th>\n",
              "      <th>mm</th>\n",
              "      <th>WVHT</th>\n",
              "      <th>DPD</th>\n",
              "      <th>APD</th>\n",
              "      <th>Wave Power</th>\n",
              "    </tr>\n",
              "  </thead>\n",
              "  <tbody>\n",
              "    <tr>\n",
              "      <th>1</th>\n",
              "      <td>2019</td>\n",
              "      <td>01</td>\n",
              "      <td>01</td>\n",
              "      <td>00</td>\n",
              "      <td>08</td>\n",
              "      <td>1.42</td>\n",
              "      <td>5.00</td>\n",
              "      <td>4.38</td>\n",
              "      <td>3479.897671</td>\n",
              "    </tr>\n",
              "    <tr>\n",
              "      <th>2</th>\n",
              "      <td>2019</td>\n",
              "      <td>01</td>\n",
              "      <td>01</td>\n",
              "      <td>00</td>\n",
              "      <td>38</td>\n",
              "      <td>1.43</td>\n",
              "      <td>5.00</td>\n",
              "      <td>4.50</td>\n",
              "      <td>3504.403993</td>\n",
              "    </tr>\n",
              "    <tr>\n",
              "      <th>3</th>\n",
              "      <td>2019</td>\n",
              "      <td>01</td>\n",
              "      <td>01</td>\n",
              "      <td>01</td>\n",
              "      <td>08</td>\n",
              "      <td>1.41</td>\n",
              "      <td>5.26</td>\n",
              "      <td>4.46</td>\n",
              "      <td>3635.071700</td>\n",
              "    </tr>\n",
              "    <tr>\n",
              "      <th>4</th>\n",
              "      <td>2019</td>\n",
              "      <td>01</td>\n",
              "      <td>01</td>\n",
              "      <td>01</td>\n",
              "      <td>38</td>\n",
              "      <td>1.40</td>\n",
              "      <td>5.00</td>\n",
              "      <td>4.37</td>\n",
              "      <td>3430.885028</td>\n",
              "    </tr>\n",
              "    <tr>\n",
              "      <th>5</th>\n",
              "      <td>2019</td>\n",
              "      <td>01</td>\n",
              "      <td>01</td>\n",
              "      <td>02</td>\n",
              "      <td>08</td>\n",
              "      <td>1.40</td>\n",
              "      <td>5.26</td>\n",
              "      <td>4.43</td>\n",
              "      <td>3609.291050</td>\n",
              "    </tr>\n",
              "  </tbody>\n",
              "</table>\n",
              "</div>"
            ],
            "text/plain": [
              "    #YY  MM  DD  hh  mm  WVHT   DPD   APD   Wave Power\n",
              "1  2019  01  01  00  08  1.42  5.00  4.38  3479.897671\n",
              "2  2019  01  01  00  38  1.43  5.00  4.50  3504.403993\n",
              "3  2019  01  01  01  08  1.41  5.26  4.46  3635.071700\n",
              "4  2019  01  01  01  38  1.40  5.00  4.37  3430.885028\n",
              "5  2019  01  01  02  08  1.40  5.26  4.43  3609.291050"
            ]
          },
          "metadata": {
            "tags": []
          },
          "execution_count": 10
        }
      ]
    },
    {
      "cell_type": "code",
      "metadata": {
        "id": "v6-kEeeKog6M",
        "colab": {
          "base_uri": "https://localhost:8080/",
          "height": 204
        },
        "outputId": "45054ce7-044a-4ec9-dcee-9809bc278960"
      },
      "source": [
        "#combine the year/month/day/time\n",
        "#[Date] + \" \" + [Time] \n",
        "df['Date'] = df['#YY'] + '-' + df['MM'] + '-' + df['DD'] + ' ' + df['hh'] + ':' + df['mm']\n",
        "df.head()"
      ],
      "execution_count": 11,
      "outputs": [
        {
          "output_type": "execute_result",
          "data": {
            "text/html": [
              "<div>\n",
              "<style scoped>\n",
              "    .dataframe tbody tr th:only-of-type {\n",
              "        vertical-align: middle;\n",
              "    }\n",
              "\n",
              "    .dataframe tbody tr th {\n",
              "        vertical-align: top;\n",
              "    }\n",
              "\n",
              "    .dataframe thead th {\n",
              "        text-align: right;\n",
              "    }\n",
              "</style>\n",
              "<table border=\"1\" class=\"dataframe\">\n",
              "  <thead>\n",
              "    <tr style=\"text-align: right;\">\n",
              "      <th></th>\n",
              "      <th>#YY</th>\n",
              "      <th>MM</th>\n",
              "      <th>DD</th>\n",
              "      <th>hh</th>\n",
              "      <th>mm</th>\n",
              "      <th>WVHT</th>\n",
              "      <th>DPD</th>\n",
              "      <th>APD</th>\n",
              "      <th>Wave Power</th>\n",
              "      <th>Date</th>\n",
              "    </tr>\n",
              "  </thead>\n",
              "  <tbody>\n",
              "    <tr>\n",
              "      <th>1</th>\n",
              "      <td>2019</td>\n",
              "      <td>01</td>\n",
              "      <td>01</td>\n",
              "      <td>00</td>\n",
              "      <td>08</td>\n",
              "      <td>1.42</td>\n",
              "      <td>5.00</td>\n",
              "      <td>4.38</td>\n",
              "      <td>3479.897671</td>\n",
              "      <td>2019-01-01 00:08</td>\n",
              "    </tr>\n",
              "    <tr>\n",
              "      <th>2</th>\n",
              "      <td>2019</td>\n",
              "      <td>01</td>\n",
              "      <td>01</td>\n",
              "      <td>00</td>\n",
              "      <td>38</td>\n",
              "      <td>1.43</td>\n",
              "      <td>5.00</td>\n",
              "      <td>4.50</td>\n",
              "      <td>3504.403993</td>\n",
              "      <td>2019-01-01 00:38</td>\n",
              "    </tr>\n",
              "    <tr>\n",
              "      <th>3</th>\n",
              "      <td>2019</td>\n",
              "      <td>01</td>\n",
              "      <td>01</td>\n",
              "      <td>01</td>\n",
              "      <td>08</td>\n",
              "      <td>1.41</td>\n",
              "      <td>5.26</td>\n",
              "      <td>4.46</td>\n",
              "      <td>3635.071700</td>\n",
              "      <td>2019-01-01 01:08</td>\n",
              "    </tr>\n",
              "    <tr>\n",
              "      <th>4</th>\n",
              "      <td>2019</td>\n",
              "      <td>01</td>\n",
              "      <td>01</td>\n",
              "      <td>01</td>\n",
              "      <td>38</td>\n",
              "      <td>1.40</td>\n",
              "      <td>5.00</td>\n",
              "      <td>4.37</td>\n",
              "      <td>3430.885028</td>\n",
              "      <td>2019-01-01 01:38</td>\n",
              "    </tr>\n",
              "    <tr>\n",
              "      <th>5</th>\n",
              "      <td>2019</td>\n",
              "      <td>01</td>\n",
              "      <td>01</td>\n",
              "      <td>02</td>\n",
              "      <td>08</td>\n",
              "      <td>1.40</td>\n",
              "      <td>5.26</td>\n",
              "      <td>4.43</td>\n",
              "      <td>3609.291050</td>\n",
              "      <td>2019-01-01 02:08</td>\n",
              "    </tr>\n",
              "  </tbody>\n",
              "</table>\n",
              "</div>"
            ],
            "text/plain": [
              "    #YY  MM  DD  hh  mm  WVHT   DPD   APD   Wave Power              Date\n",
              "1  2019  01  01  00  08  1.42  5.00  4.38  3479.897671  2019-01-01 00:08\n",
              "2  2019  01  01  00  38  1.43  5.00  4.50  3504.403993  2019-01-01 00:38\n",
              "3  2019  01  01  01  08  1.41  5.26  4.46  3635.071700  2019-01-01 01:08\n",
              "4  2019  01  01  01  38  1.40  5.00  4.37  3430.885028  2019-01-01 01:38\n",
              "5  2019  01  01  02  08  1.40  5.26  4.43  3609.291050  2019-01-01 02:08"
            ]
          },
          "metadata": {
            "tags": []
          },
          "execution_count": 11
        }
      ]
    },
    {
      "cell_type": "code",
      "metadata": {
        "id": "2FDd-InRqkqx",
        "colab": {
          "base_uri": "https://localhost:8080/",
          "height": 312
        },
        "outputId": "7c6cb435-4643-4d85-d5e0-b502b1c75038"
      },
      "source": [
        "#lets think, it might be easier to average wave power/statistics over each month if I keep the months in a seperate column where it equals 01, 02, ...\n",
        "#I could then compare monthly wave data (into a completely new df) and plot that. every half an hour is unnecesarry.\n",
        "\n",
        "#lets try to make a histogram\n",
        "fig, ax = plt.subplots()\n",
        "\n",
        "num_bins = 100\n",
        "ax.hist(df['Wave Power'],num_bins)\n",
        "ax.set_title('Frequency of Wave Power NDBC 44098')\n",
        "ax.set_xlabel('Wave Power in Watts')\n",
        "ax.set_ylabel('Frequency')\n",
        "\n",
        "plt.show()\n",
        "\n",
        "#check to see if this makes sense\n",
        "max_power = df['Wave Power'].max()\n",
        "print(max_power)\n"
      ],
      "execution_count": 12,
      "outputs": [
        {
          "output_type": "display_data",
          "data": {
            "image/png": "[encoded data removed]",
            "text/plain": [
              "<Figure size 432x288 with 1 Axes>"
            ]
          },
          "metadata": {
            "tags": [],
            "needs_background": "light"
          }
        },
        {
          "output_type": "stream",
          "text": [
            "40619.228102085544\n"
          ],
          "name": "stdout"
        }
      ]
    },
    {
      "cell_type": "code",
      "metadata": {
        "id": "gvLyZGdI-g6z",
        "colab": {
          "base_uri": "https://localhost:8080/",
          "height": 204
        },
        "outputId": "69e87744-e3eb-4047-d988-8b9080b610d0"
      },
      "source": [
        "# Lets try to repeat this for Rhode Island\n",
        "dfRI = pd.read_csv('https://www.ndbc.noaa.gov/view_text_file.php?filename=44097h2019.txt.gz&dir=data/historical/stdmet/', delimiter= '\\s+', index_col=False)\n",
        "dfRI.head()"
      ],
      "execution_count": 13,
      "outputs": [
        {
          "output_type": "execute_result",
          "data": {
            "text/html": [
              "<div>\n",
              "<style scoped>\n",
              "    .dataframe tbody tr th:only-of-type {\n",
              "        vertical-align: middle;\n",
              "    }\n",
              "\n",
              "    .dataframe tbody tr th {\n",
              "        vertical-align: top;\n",
              "    }\n",
              "\n",
              "    .dataframe thead th {\n",
              "        text-align: right;\n",
              "    }\n",
              "</style>\n",
              "<table border=\"1\" class=\"dataframe\">\n",
              "  <thead>\n",
              "    <tr style=\"text-align: right;\">\n",
              "      <th></th>\n",
              "      <th>#YY</th>\n",
              "      <th>MM</th>\n",
              "      <th>DD</th>\n",
              "      <th>hh</th>\n",
              "      <th>mm</th>\n",
              "      <th>WDIR</th>\n",
              "      <th>WSPD</th>\n",
              "      <th>GST</th>\n",
              "      <th>WVHT</th>\n",
              "      <th>DPD</th>\n",
              "      <th>APD</th>\n",
              "      <th>MWD</th>\n",
              "      <th>PRES</th>\n",
              "      <th>ATMP</th>\n",
              "      <th>WTMP</th>\n",
              "      <th>DEWP</th>\n",
              "      <th>VIS</th>\n",
              "      <th>TIDE</th>\n",
              "    </tr>\n",
              "  </thead>\n",
              "  <tbody>\n",
              "    <tr>\n",
              "      <th>0</th>\n",
              "      <td>#yr</td>\n",
              "      <td>mo</td>\n",
              "      <td>dy</td>\n",
              "      <td>hr</td>\n",
              "      <td>mn</td>\n",
              "      <td>degT</td>\n",
              "      <td>m/s</td>\n",
              "      <td>m/s</td>\n",
              "      <td>m</td>\n",
              "      <td>sec</td>\n",
              "      <td>sec</td>\n",
              "      <td>degT</td>\n",
              "      <td>hPa</td>\n",
              "      <td>degC</td>\n",
              "      <td>degC</td>\n",
              "      <td>degC</td>\n",
              "      <td>mi</td>\n",
              "      <td>ft</td>\n",
              "    </tr>\n",
              "    <tr>\n",
              "      <th>1</th>\n",
              "      <td>2019</td>\n",
              "      <td>01</td>\n",
              "      <td>01</td>\n",
              "      <td>00</td>\n",
              "      <td>00</td>\n",
              "      <td>999</td>\n",
              "      <td>99.0</td>\n",
              "      <td>99.0</td>\n",
              "      <td>1.14</td>\n",
              "      <td>4.35</td>\n",
              "      <td>4.11</td>\n",
              "      <td>158</td>\n",
              "      <td>9999.0</td>\n",
              "      <td>999.0</td>\n",
              "      <td>8.7</td>\n",
              "      <td>999.0</td>\n",
              "      <td>99.0</td>\n",
              "      <td>99.00</td>\n",
              "    </tr>\n",
              "    <tr>\n",
              "      <th>2</th>\n",
              "      <td>2019</td>\n",
              "      <td>01</td>\n",
              "      <td>01</td>\n",
              "      <td>00</td>\n",
              "      <td>30</td>\n",
              "      <td>999</td>\n",
              "      <td>99.0</td>\n",
              "      <td>99.0</td>\n",
              "      <td>1.23</td>\n",
              "      <td>4.55</td>\n",
              "      <td>4.13</td>\n",
              "      <td>159</td>\n",
              "      <td>9999.0</td>\n",
              "      <td>999.0</td>\n",
              "      <td>8.7</td>\n",
              "      <td>999.0</td>\n",
              "      <td>99.0</td>\n",
              "      <td>99.00</td>\n",
              "    </tr>\n",
              "    <tr>\n",
              "      <th>3</th>\n",
              "      <td>2019</td>\n",
              "      <td>01</td>\n",
              "      <td>01</td>\n",
              "      <td>01</td>\n",
              "      <td>00</td>\n",
              "      <td>999</td>\n",
              "      <td>99.0</td>\n",
              "      <td>99.0</td>\n",
              "      <td>1.21</td>\n",
              "      <td>4.35</td>\n",
              "      <td>4.21</td>\n",
              "      <td>158</td>\n",
              "      <td>9999.0</td>\n",
              "      <td>999.0</td>\n",
              "      <td>8.7</td>\n",
              "      <td>999.0</td>\n",
              "      <td>99.0</td>\n",
              "      <td>99.00</td>\n",
              "    </tr>\n",
              "    <tr>\n",
              "      <th>4</th>\n",
              "      <td>2019</td>\n",
              "      <td>01</td>\n",
              "      <td>01</td>\n",
              "      <td>01</td>\n",
              "      <td>30</td>\n",
              "      <td>999</td>\n",
              "      <td>99.0</td>\n",
              "      <td>99.0</td>\n",
              "      <td>1.38</td>\n",
              "      <td>5.00</td>\n",
              "      <td>4.37</td>\n",
              "      <td>156</td>\n",
              "      <td>9999.0</td>\n",
              "      <td>999.0</td>\n",
              "      <td>8.7</td>\n",
              "      <td>999.0</td>\n",
              "      <td>99.0</td>\n",
              "      <td>99.00</td>\n",
              "    </tr>\n",
              "  </tbody>\n",
              "</table>\n",
              "</div>"
            ],
            "text/plain": [
              "    #YY  MM  DD  hh  mm  WDIR  ...    PRES   ATMP  WTMP   DEWP   VIS   TIDE\n",
              "0   #yr  mo  dy  hr  mn  degT  ...     hPa   degC  degC   degC    mi     ft\n",
              "1  2019  01  01  00  00   999  ...  9999.0  999.0   8.7  999.0  99.0  99.00\n",
              "2  2019  01  01  00  30   999  ...  9999.0  999.0   8.7  999.0  99.0  99.00\n",
              "3  2019  01  01  01  00   999  ...  9999.0  999.0   8.7  999.0  99.0  99.00\n",
              "4  2019  01  01  01  30   999  ...  9999.0  999.0   8.7  999.0  99.0  99.00\n",
              "\n",
              "[5 rows x 18 columns]"
            ]
          },
          "metadata": {
            "tags": []
          },
          "execution_count": 13
        }
      ]
    },
    {
      "cell_type": "code",
      "metadata": {
        "id": "gpEe-twSA9Ih",
        "colab": {
          "base_uri": "https://localhost:8080/",
          "height": 204
        },
        "outputId": "219f8e0f-5c67-48d0-d9f9-c07cf4dd8374"
      },
      "source": [
        "del dfRI['PRES']\n",
        "del dfRI['WTMP']\n",
        "del dfRI['VIS']\n",
        "del dfRI['TIDE']\n",
        "del dfRI['DEWP']\n",
        "del dfRI['MWD']\n",
        "del dfRI['ATMP']\n",
        "del dfRI['GST']\n",
        "del dfRI['WDIR']\n",
        "del dfRI['WSPD']\n",
        "dfRI = dfRI.iloc[1:]\n",
        "dfRI.head()"
      ],
      "execution_count": 14,
      "outputs": [
        {
          "output_type": "execute_result",
          "data": {
            "text/html": [
              "<div>\n",
              "<style scoped>\n",
              "    .dataframe tbody tr th:only-of-type {\n",
              "        vertical-align: middle;\n",
              "    }\n",
              "\n",
              "    .dataframe tbody tr th {\n",
              "        vertical-align: top;\n",
              "    }\n",
              "\n",
              "    .dataframe thead th {\n",
              "        text-align: right;\n",
              "    }\n",
              "</style>\n",
              "<table border=\"1\" class=\"dataframe\">\n",
              "  <thead>\n",
              "    <tr style=\"text-align: right;\">\n",
              "      <th></th>\n",
              "      <th>#YY</th>\n",
              "      <th>MM</th>\n",
              "      <th>DD</th>\n",
              "      <th>hh</th>\n",
              "      <th>mm</th>\n",
              "      <th>WVHT</th>\n",
              "      <th>DPD</th>\n",
              "      <th>APD</th>\n",
              "    </tr>\n",
              "  </thead>\n",
              "  <tbody>\n",
              "    <tr>\n",
              "      <th>1</th>\n",
              "      <td>2019</td>\n",
              "      <td>01</td>\n",
              "      <td>01</td>\n",
              "      <td>00</td>\n",
              "      <td>00</td>\n",
              "      <td>1.14</td>\n",
              "      <td>4.35</td>\n",
              "      <td>4.11</td>\n",
              "    </tr>\n",
              "    <tr>\n",
              "      <th>2</th>\n",
              "      <td>2019</td>\n",
              "      <td>01</td>\n",
              "      <td>01</td>\n",
              "      <td>00</td>\n",
              "      <td>30</td>\n",
              "      <td>1.23</td>\n",
              "      <td>4.55</td>\n",
              "      <td>4.13</td>\n",
              "    </tr>\n",
              "    <tr>\n",
              "      <th>3</th>\n",
              "      <td>2019</td>\n",
              "      <td>01</td>\n",
              "      <td>01</td>\n",
              "      <td>01</td>\n",
              "      <td>00</td>\n",
              "      <td>1.21</td>\n",
              "      <td>4.35</td>\n",
              "      <td>4.21</td>\n",
              "    </tr>\n",
              "    <tr>\n",
              "      <th>4</th>\n",
              "      <td>2019</td>\n",
              "      <td>01</td>\n",
              "      <td>01</td>\n",
              "      <td>01</td>\n",
              "      <td>30</td>\n",
              "      <td>1.38</td>\n",
              "      <td>5.00</td>\n",
              "      <td>4.37</td>\n",
              "    </tr>\n",
              "    <tr>\n",
              "      <th>5</th>\n",
              "      <td>2019</td>\n",
              "      <td>01</td>\n",
              "      <td>01</td>\n",
              "      <td>02</td>\n",
              "      <td>00</td>\n",
              "      <td>1.42</td>\n",
              "      <td>5.00</td>\n",
              "      <td>4.30</td>\n",
              "    </tr>\n",
              "  </tbody>\n",
              "</table>\n",
              "</div>"
            ],
            "text/plain": [
              "    #YY  MM  DD  hh  mm  WVHT   DPD   APD\n",
              "1  2019  01  01  00  00  1.14  4.35  4.11\n",
              "2  2019  01  01  00  30  1.23  4.55  4.13\n",
              "3  2019  01  01  01  00  1.21  4.35  4.21\n",
              "4  2019  01  01  01  30  1.38  5.00  4.37\n",
              "5  2019  01  01  02  00  1.42  5.00  4.30"
            ]
          },
          "metadata": {
            "tags": []
          },
          "execution_count": 14
        }
      ]
    },
    {
      "cell_type": "code",
      "metadata": {
        "id": "8V5gIFwPBSd3",
        "colab": {
          "base_uri": "https://localhost:8080/"
        },
        "outputId": "9a39aea7-eabf-48c0-9f37-401d59a2bcf2"
      },
      "source": [
        "dfRI.isnull().sum()"
      ],
      "execution_count": 15,
      "outputs": [
        {
          "output_type": "execute_result",
          "data": {
            "text/plain": [
              "#YY     0\n",
              "MM      0\n",
              "DD      0\n",
              "hh      0\n",
              "mm      0\n",
              "WVHT    0\n",
              "DPD     0\n",
              "APD     0\n",
              "dtype: int64"
            ]
          },
          "metadata": {
            "tags": []
          },
          "execution_count": 15
        }
      ]
    },
    {
      "cell_type": "code",
      "metadata": {
        "id": "fXkUG1nZBXzd",
        "colab": {
          "base_uri": "https://localhost:8080/"
        },
        "outputId": "a8ba7d0e-df66-48df-d04f-e73457559907"
      },
      "source": [
        "#any numbers over 10 were considered strings so I had to convert them to numberic values\n",
        "dfRI['WVHT'] = pd.to_numeric(dfRI.WVHT)\n",
        "dfRI['DPD'] = pd.to_numeric(dfRI.DPD)\n",
        "dfRI['APD'] = pd.to_numeric(dfRI.APD)\n",
        "\n",
        "max_wvht = dfRI['WVHT'].max()\n",
        "max_dpd = dfRI['DPD'].max()\n",
        "max_apd = dfRI['APD'].max()\n",
        "max_values = dfRI.max()\n",
        "\n",
        "print(max_wvht)\n",
        "print(max_dpd)\n",
        "print(max_apd)\n",
        "print(max_values)"
      ],
      "execution_count": 16,
      "outputs": [
        {
          "output_type": "stream",
          "text": [
            "6.15\n",
            "16.67\n",
            "10.47\n",
            "#YY      2019\n",
            "MM         12\n",
            "DD         31\n",
            "hh         23\n",
            "mm         30\n",
            "WVHT     6.15\n",
            "DPD     16.67\n",
            "APD     10.47\n",
            "dtype: object\n"
          ],
          "name": "stdout"
        }
      ]
    },
    {
      "cell_type": "code",
      "metadata": {
        "id": "3iD-NAa0BnP7",
        "colab": {
          "base_uri": "https://localhost:8080/"
        },
        "outputId": "a34a838c-259a-4836-abf2-6db5917234a8"
      },
      "source": [
        "dfRI['Wave Power'] = ((rho*g**2)/(64*pi))*dfRI['WVHT']*dfRI['DPD']\n",
        "dfRI.head()\n",
        "max_wvprri = dfRI['Wave Power'].max()\n",
        "print(max_wvprri)"
      ],
      "execution_count": 17,
      "outputs": [
        {
          "output_type": "stream",
          "text": [
            "36980.627491717365\n"
          ],
          "name": "stdout"
        }
      ]
    },
    {
      "cell_type": "code",
      "metadata": {
        "id": "T29zc1Q8Bwon",
        "colab": {
          "base_uri": "https://localhost:8080/",
          "height": 204
        },
        "outputId": "fbfe1a34-f94d-433d-9c52-f2cde4fa1261"
      },
      "source": [
        "dfRI['Date'] = dfRI['#YY'] + '-' + dfRI['MM'] + '-' + dfRI['DD'] + ' ' + dfRI['hh'] + ':' + dfRI['mm']\n",
        "dfRI.head()"
      ],
      "execution_count": 18,
      "outputs": [
        {
          "output_type": "execute_result",
          "data": {
            "text/html": [
              "<div>\n",
              "<style scoped>\n",
              "    .dataframe tbody tr th:only-of-type {\n",
              "        vertical-align: middle;\n",
              "    }\n",
              "\n",
              "    .dataframe tbody tr th {\n",
              "        vertical-align: top;\n",
              "    }\n",
              "\n",
              "    .dataframe thead th {\n",
              "        text-align: right;\n",
              "    }\n",
              "</style>\n",
              "<table border=\"1\" class=\"dataframe\">\n",
              "  <thead>\n",
              "    <tr style=\"text-align: right;\">\n",
              "      <th></th>\n",
              "      <th>#YY</th>\n",
              "      <th>MM</th>\n",
              "      <th>DD</th>\n",
              "      <th>hh</th>\n",
              "      <th>mm</th>\n",
              "      <th>WVHT</th>\n",
              "      <th>DPD</th>\n",
              "      <th>APD</th>\n",
              "      <th>Wave Power</th>\n",
              "      <th>Date</th>\n",
              "    </tr>\n",
              "  </thead>\n",
              "  <tbody>\n",
              "    <tr>\n",
              "      <th>1</th>\n",
              "      <td>2019</td>\n",
              "      <td>01</td>\n",
              "      <td>01</td>\n",
              "      <td>00</td>\n",
              "      <td>00</td>\n",
              "      <td>1.14</td>\n",
              "      <td>4.35</td>\n",
              "      <td>4.11</td>\n",
              "      <td>2430.536979</td>\n",
              "      <td>2019-01-01 00:00</td>\n",
              "    </tr>\n",
              "    <tr>\n",
              "      <th>2</th>\n",
              "      <td>2019</td>\n",
              "      <td>01</td>\n",
              "      <td>01</td>\n",
              "      <td>00</td>\n",
              "      <td>30</td>\n",
              "      <td>1.23</td>\n",
              "      <td>4.55</td>\n",
              "      <td>4.13</td>\n",
              "      <td>2742.992580</td>\n",
              "      <td>2019-01-01 00:30</td>\n",
              "    </tr>\n",
              "    <tr>\n",
              "      <th>3</th>\n",
              "      <td>2019</td>\n",
              "      <td>01</td>\n",
              "      <td>01</td>\n",
              "      <td>01</td>\n",
              "      <td>00</td>\n",
              "      <td>1.21</td>\n",
              "      <td>4.35</td>\n",
              "      <td>4.21</td>\n",
              "      <td>2579.780478</td>\n",
              "      <td>2019-01-01 01:00</td>\n",
              "    </tr>\n",
              "    <tr>\n",
              "      <th>4</th>\n",
              "      <td>2019</td>\n",
              "      <td>01</td>\n",
              "      <td>01</td>\n",
              "      <td>01</td>\n",
              "      <td>30</td>\n",
              "      <td>1.38</td>\n",
              "      <td>5.00</td>\n",
              "      <td>4.37</td>\n",
              "      <td>3381.872385</td>\n",
              "      <td>2019-01-01 01:30</td>\n",
              "    </tr>\n",
              "    <tr>\n",
              "      <th>5</th>\n",
              "      <td>2019</td>\n",
              "      <td>01</td>\n",
              "      <td>01</td>\n",
              "      <td>02</td>\n",
              "      <td>00</td>\n",
              "      <td>1.42</td>\n",
              "      <td>5.00</td>\n",
              "      <td>4.30</td>\n",
              "      <td>3479.897671</td>\n",
              "      <td>2019-01-01 02:00</td>\n",
              "    </tr>\n",
              "  </tbody>\n",
              "</table>\n",
              "</div>"
            ],
            "text/plain": [
              "    #YY  MM  DD  hh  mm  WVHT   DPD   APD   Wave Power              Date\n",
              "1  2019  01  01  00  00  1.14  4.35  4.11  2430.536979  2019-01-01 00:00\n",
              "2  2019  01  01  00  30  1.23  4.55  4.13  2742.992580  2019-01-01 00:30\n",
              "3  2019  01  01  01  00  1.21  4.35  4.21  2579.780478  2019-01-01 01:00\n",
              "4  2019  01  01  01  30  1.38  5.00  4.37  3381.872385  2019-01-01 01:30\n",
              "5  2019  01  01  02  00  1.42  5.00  4.30  3479.897671  2019-01-01 02:00"
            ]
          },
          "metadata": {
            "tags": []
          },
          "execution_count": 18
        }
      ]
    },
    {
      "cell_type": "code",
      "metadata": {
        "id": "fTdFtMaZWGzo",
        "colab": {
          "base_uri": "https://localhost:8080/"
        },
        "outputId": "5908d1f5-2d9b-46f7-bee1-7c2ca4ad82c9"
      },
      "source": [
        "# calculate the yearly mean for NH and RI\n",
        "yr_mean_nh = df['Wave Power'].mean()\n",
        "yr_mean_RI = dfRI['Wave Power'].mean()\n",
        "print(yr_mean_nh)\n",
        "print(yr_mean_RI)"
      ],
      "execution_count": 19,
      "outputs": [
        {
          "output_type": "stream",
          "text": [
            "4760.549244984579\n",
            "5265.620687785058\n"
          ],
          "name": "stdout"
        }
      ]
    },
    {
      "cell_type": "code",
      "metadata": {
        "id": "8aC6KXmVCFuR",
        "colab": {
          "base_uri": "https://localhost:8080/",
          "height": 312
        },
        "outputId": "83156c36-8a5e-4fd6-ba3f-e4b7e7861c93"
      },
      "source": [
        "#make a histogram combining NH and RI\n",
        "fig, ax = plt.subplots()\n",
        "\n",
        "num_bins = 100\n",
        "ax.hist(df['Wave Power'],num_bins, alpha=0.4, label='NDBC 44098 (NH)')\n",
        "ax.hist(dfRI['Wave Power'],num_bins, alpha=0.4, label='NDBC 44097 (RI)')\n",
        "\n",
        "\n",
        "plt.axvline(x=yr_mean_nh, alpha = 0.5, label='NH mean')\n",
        "plt.axvline(x=yr_mean_RI, alpha = 0.5, label='RI mean', color='orange' )\n",
        "\n",
        "ax.set_title('Frequency of Wave Power  for NDBC 44098 and NDBC 44097 (2019)', weight='bold', fontsize = 12)\n",
        "ax.set_xlabel('Wave Power in Watts per unit Crest')\n",
        "ax.set_ylabel('Frequency')\n",
        "\n",
        "leg = ax.legend();\n",
        "\n",
        "plt.show()\n",
        "\n",
        "#check to see if this makes sense\n",
        "max_power = dfRI['Wave Power'].max()\n",
        "print(max_power)"
      ],
      "execution_count": 20,
      "outputs": [
        {
          "output_type": "display_data",
          "data": {
            "image/png": "[encoded data removed]",
            "text/plain": [
              "<Figure size 432x288 with 1 Axes>"
            ]
          },
          "metadata": {
            "tags": [],
            "needs_background": "light"
          }
        },
        {
          "output_type": "stream",
          "text": [
            "36980.627491717365\n"
          ],
          "name": "stdout"
        }
      ]
    },
    {
      "cell_type": "code",
      "metadata": {
        "id": "NR98_v6dCfMz",
        "colab": {
          "base_uri": "https://localhost:8080/",
          "height": 204
        },
        "outputId": "80b1df65-8928-4cb0-8abe-d272459e8174"
      },
      "source": [
        "#lets try to get some wind data close to NDBC 44098 to analyze correlation between wind and wave period?\n",
        "df_wind = pd.read_csv('https://www.ndbc.noaa.gov/view_text_file.php?filename=iosn3c2019.txt.gz&dir=data/historical/cwind/', delimiter= '\\s+', index_col=False)\n",
        "df_wind.head()"
      ],
      "execution_count": 21,
      "outputs": [
        {
          "output_type": "execute_result",
          "data": {
            "text/html": [
              "<div>\n",
              "<style scoped>\n",
              "    .dataframe tbody tr th:only-of-type {\n",
              "        vertical-align: middle;\n",
              "    }\n",
              "\n",
              "    .dataframe tbody tr th {\n",
              "        vertical-align: top;\n",
              "    }\n",
              "\n",
              "    .dataframe thead th {\n",
              "        text-align: right;\n",
              "    }\n",
              "</style>\n",
              "<table border=\"1\" class=\"dataframe\">\n",
              "  <thead>\n",
              "    <tr style=\"text-align: right;\">\n",
              "      <th></th>\n",
              "      <th>#YY</th>\n",
              "      <th>MM</th>\n",
              "      <th>DD</th>\n",
              "      <th>hh</th>\n",
              "      <th>mm</th>\n",
              "      <th>WDIR</th>\n",
              "      <th>WSPD</th>\n",
              "      <th>GDR</th>\n",
              "      <th>GST</th>\n",
              "      <th>GTIME</th>\n",
              "    </tr>\n",
              "  </thead>\n",
              "  <tbody>\n",
              "    <tr>\n",
              "      <th>0</th>\n",
              "      <td>#yr</td>\n",
              "      <td>mo</td>\n",
              "      <td>dy</td>\n",
              "      <td>hr</td>\n",
              "      <td>mn</td>\n",
              "      <td>degT</td>\n",
              "      <td>m/s</td>\n",
              "      <td>degT</td>\n",
              "      <td>m/s</td>\n",
              "      <td>hhmm</td>\n",
              "    </tr>\n",
              "    <tr>\n",
              "      <th>1</th>\n",
              "      <td>2018</td>\n",
              "      <td>12</td>\n",
              "      <td>31</td>\n",
              "      <td>23</td>\n",
              "      <td>10</td>\n",
              "      <td>183</td>\n",
              "      <td>7.5</td>\n",
              "      <td>999</td>\n",
              "      <td>99.0</td>\n",
              "      <td>9999</td>\n",
              "    </tr>\n",
              "    <tr>\n",
              "      <th>2</th>\n",
              "      <td>2018</td>\n",
              "      <td>12</td>\n",
              "      <td>31</td>\n",
              "      <td>23</td>\n",
              "      <td>20</td>\n",
              "      <td>190</td>\n",
              "      <td>8.0</td>\n",
              "      <td>999</td>\n",
              "      <td>99.0</td>\n",
              "      <td>9999</td>\n",
              "    </tr>\n",
              "    <tr>\n",
              "      <th>3</th>\n",
              "      <td>2018</td>\n",
              "      <td>12</td>\n",
              "      <td>31</td>\n",
              "      <td>23</td>\n",
              "      <td>30</td>\n",
              "      <td>193</td>\n",
              "      <td>9.2</td>\n",
              "      <td>999</td>\n",
              "      <td>99.0</td>\n",
              "      <td>9999</td>\n",
              "    </tr>\n",
              "    <tr>\n",
              "      <th>4</th>\n",
              "      <td>2018</td>\n",
              "      <td>12</td>\n",
              "      <td>31</td>\n",
              "      <td>23</td>\n",
              "      <td>40</td>\n",
              "      <td>189</td>\n",
              "      <td>10.3</td>\n",
              "      <td>999</td>\n",
              "      <td>99.0</td>\n",
              "      <td>9999</td>\n",
              "    </tr>\n",
              "  </tbody>\n",
              "</table>\n",
              "</div>"
            ],
            "text/plain": [
              "    #YY  MM  DD  hh  mm  WDIR  WSPD   GDR   GST GTIME\n",
              "0   #yr  mo  dy  hr  mn  degT   m/s  degT   m/s  hhmm\n",
              "1  2018  12  31  23  10   183   7.5   999  99.0  9999\n",
              "2  2018  12  31  23  20   190   8.0   999  99.0  9999\n",
              "3  2018  12  31  23  30   193   9.2   999  99.0  9999\n",
              "4  2018  12  31  23  40   189  10.3   999  99.0  9999"
            ]
          },
          "metadata": {
            "tags": []
          },
          "execution_count": 21
        }
      ]
    },
    {
      "cell_type": "code",
      "metadata": {
        "id": "jkSsGXW7FIXX",
        "colab": {
          "base_uri": "https://localhost:8080/",
          "height": 204
        },
        "outputId": "52a5b5f9-031f-4795-c02b-91b412f84b01"
      },
      "source": [
        "df_wind = df_wind.iloc[1:]\n",
        "del df_wind['WDIR']\n",
        "del df_wind['GDR']\n",
        "del df_wind['GST']\n",
        "del df_wind['GTIME']\n",
        "df_wind.head()"
      ],
      "execution_count": 22,
      "outputs": [
        {
          "output_type": "execute_result",
          "data": {
            "text/html": [
              "<div>\n",
              "<style scoped>\n",
              "    .dataframe tbody tr th:only-of-type {\n",
              "        vertical-align: middle;\n",
              "    }\n",
              "\n",
              "    .dataframe tbody tr th {\n",
              "        vertical-align: top;\n",
              "    }\n",
              "\n",
              "    .dataframe thead th {\n",
              "        text-align: right;\n",
              "    }\n",
              "</style>\n",
              "<table border=\"1\" class=\"dataframe\">\n",
              "  <thead>\n",
              "    <tr style=\"text-align: right;\">\n",
              "      <th></th>\n",
              "      <th>#YY</th>\n",
              "      <th>MM</th>\n",
              "      <th>DD</th>\n",
              "      <th>hh</th>\n",
              "      <th>mm</th>\n",
              "      <th>WSPD</th>\n",
              "    </tr>\n",
              "  </thead>\n",
              "  <tbody>\n",
              "    <tr>\n",
              "      <th>1</th>\n",
              "      <td>2018</td>\n",
              "      <td>12</td>\n",
              "      <td>31</td>\n",
              "      <td>23</td>\n",
              "      <td>10</td>\n",
              "      <td>7.5</td>\n",
              "    </tr>\n",
              "    <tr>\n",
              "      <th>2</th>\n",
              "      <td>2018</td>\n",
              "      <td>12</td>\n",
              "      <td>31</td>\n",
              "      <td>23</td>\n",
              "      <td>20</td>\n",
              "      <td>8.0</td>\n",
              "    </tr>\n",
              "    <tr>\n",
              "      <th>3</th>\n",
              "      <td>2018</td>\n",
              "      <td>12</td>\n",
              "      <td>31</td>\n",
              "      <td>23</td>\n",
              "      <td>30</td>\n",
              "      <td>9.2</td>\n",
              "    </tr>\n",
              "    <tr>\n",
              "      <th>4</th>\n",
              "      <td>2018</td>\n",
              "      <td>12</td>\n",
              "      <td>31</td>\n",
              "      <td>23</td>\n",
              "      <td>40</td>\n",
              "      <td>10.3</td>\n",
              "    </tr>\n",
              "    <tr>\n",
              "      <th>5</th>\n",
              "      <td>2018</td>\n",
              "      <td>12</td>\n",
              "      <td>31</td>\n",
              "      <td>23</td>\n",
              "      <td>50</td>\n",
              "      <td>11.2</td>\n",
              "    </tr>\n",
              "  </tbody>\n",
              "</table>\n",
              "</div>"
            ],
            "text/plain": [
              "    #YY  MM  DD  hh  mm  WSPD\n",
              "1  2018  12  31  23  10   7.5\n",
              "2  2018  12  31  23  20   8.0\n",
              "3  2018  12  31  23  30   9.2\n",
              "4  2018  12  31  23  40  10.3\n",
              "5  2018  12  31  23  50  11.2"
            ]
          },
          "metadata": {
            "tags": []
          },
          "execution_count": 22
        }
      ]
    },
    {
      "cell_type": "code",
      "metadata": {
        "id": "ZcR4AMerFj5T",
        "colab": {
          "base_uri": "https://localhost:8080/",
          "height": 204
        },
        "outputId": "512bb90f-d0b5-4456-aea9-f58fefe6dfa5"
      },
      "source": [
        "df_wind['Date'] = df_wind['#YY'] + '-' + df_wind['MM'] + '-' + df_wind['DD'] + ' ' + df_wind['hh'] + ':' + df_wind['mm']\n",
        "df_wind.head()"
      ],
      "execution_count": 23,
      "outputs": [
        {
          "output_type": "execute_result",
          "data": {
            "text/html": [
              "<div>\n",
              "<style scoped>\n",
              "    .dataframe tbody tr th:only-of-type {\n",
              "        vertical-align: middle;\n",
              "    }\n",
              "\n",
              "    .dataframe tbody tr th {\n",
              "        vertical-align: top;\n",
              "    }\n",
              "\n",
              "    .dataframe thead th {\n",
              "        text-align: right;\n",
              "    }\n",
              "</style>\n",
              "<table border=\"1\" class=\"dataframe\">\n",
              "  <thead>\n",
              "    <tr style=\"text-align: right;\">\n",
              "      <th></th>\n",
              "      <th>#YY</th>\n",
              "      <th>MM</th>\n",
              "      <th>DD</th>\n",
              "      <th>hh</th>\n",
              "      <th>mm</th>\n",
              "      <th>WSPD</th>\n",
              "      <th>Date</th>\n",
              "    </tr>\n",
              "  </thead>\n",
              "  <tbody>\n",
              "    <tr>\n",
              "      <th>1</th>\n",
              "      <td>2018</td>\n",
              "      <td>12</td>\n",
              "      <td>31</td>\n",
              "      <td>23</td>\n",
              "      <td>10</td>\n",
              "      <td>7.5</td>\n",
              "      <td>2018-12-31 23:10</td>\n",
              "    </tr>\n",
              "    <tr>\n",
              "      <th>2</th>\n",
              "      <td>2018</td>\n",
              "      <td>12</td>\n",
              "      <td>31</td>\n",
              "      <td>23</td>\n",
              "      <td>20</td>\n",
              "      <td>8.0</td>\n",
              "      <td>2018-12-31 23:20</td>\n",
              "    </tr>\n",
              "    <tr>\n",
              "      <th>3</th>\n",
              "      <td>2018</td>\n",
              "      <td>12</td>\n",
              "      <td>31</td>\n",
              "      <td>23</td>\n",
              "      <td>30</td>\n",
              "      <td>9.2</td>\n",
              "      <td>2018-12-31 23:30</td>\n",
              "    </tr>\n",
              "    <tr>\n",
              "      <th>4</th>\n",
              "      <td>2018</td>\n",
              "      <td>12</td>\n",
              "      <td>31</td>\n",
              "      <td>23</td>\n",
              "      <td>40</td>\n",
              "      <td>10.3</td>\n",
              "      <td>2018-12-31 23:40</td>\n",
              "    </tr>\n",
              "    <tr>\n",
              "      <th>5</th>\n",
              "      <td>2018</td>\n",
              "      <td>12</td>\n",
              "      <td>31</td>\n",
              "      <td>23</td>\n",
              "      <td>50</td>\n",
              "      <td>11.2</td>\n",
              "      <td>2018-12-31 23:50</td>\n",
              "    </tr>\n",
              "  </tbody>\n",
              "</table>\n",
              "</div>"
            ],
            "text/plain": [
              "    #YY  MM  DD  hh  mm  WSPD              Date\n",
              "1  2018  12  31  23  10   7.5  2018-12-31 23:10\n",
              "2  2018  12  31  23  20   8.0  2018-12-31 23:20\n",
              "3  2018  12  31  23  30   9.2  2018-12-31 23:30\n",
              "4  2018  12  31  23  40  10.3  2018-12-31 23:40\n",
              "5  2018  12  31  23  50  11.2  2018-12-31 23:50"
            ]
          },
          "metadata": {
            "tags": []
          },
          "execution_count": 23
        }
      ]
    },
    {
      "cell_type": "code",
      "metadata": {
        "id": "GAqxN2kkFybJ",
        "colab": {
          "base_uri": "https://localhost:8080/"
        },
        "outputId": "e7a86ab9-12ce-4d1c-9bfe-10f4d19615dd"
      },
      "source": [
        "#the first five elements are from 2018 so lets remove them\n",
        "df_wind = df_wind.iloc[5:]\n",
        "df_wind.head()\n",
        "a = df_wind.shape\n",
        "b = df.shape\n",
        "print(a)\n",
        "print(b)"
      ],
      "execution_count": 24,
      "outputs": [
        {
          "output_type": "stream",
          "text": [
            "(48116, 7)\n",
            "(14181, 10)\n"
          ],
          "name": "stdout"
        }
      ]
    },
    {
      "cell_type": "code",
      "metadata": {
        "id": "8f4bb2yznygU",
        "colab": {
          "base_uri": "https://localhost:8080/",
          "height": 204
        },
        "outputId": "abb7512a-ac21-4824-866c-c01929fa8e8c"
      },
      "source": [
        "#Isolate the necessary month\n",
        "df_new_testRI1 = dfRI.loc[dfRI['MM']=='01']\n",
        "df_new_testRI2 = dfRI.loc[dfRI['MM']=='02']\n",
        "df_new_testRI3 = dfRI.loc[dfRI['MM']=='03']\n",
        "df_new_testRI4 = dfRI.loc[dfRI['MM']=='04']\n",
        "df_new_testRI5 = dfRI.loc[dfRI['MM']=='05']\n",
        "df_new_testRI6 = dfRI.loc[dfRI['MM']=='06']\n",
        "df_new_testRI7 = dfRI.loc[dfRI['MM']=='07']\n",
        "df_new_testRI8 = dfRI.loc[dfRI['MM']=='08']\n",
        "df_new_testRI9 = dfRI.loc[dfRI['MM']=='09']\n",
        "df_new_testRI10 = dfRI.loc[dfRI['MM']=='10']\n",
        "df_new_testRI11 = dfRI.loc[dfRI['MM']=='11']\n",
        "df_new_testRI12 = dfRI.loc[dfRI['MM']=='12']\n",
        "\n",
        "#Isolate wave power month 1\n",
        "df_new_test2RI1 = df_new_testRI1[['Wave Power']].copy()\n",
        "df_new_test2RI1.columns = ['Wave Power RI']\n",
        "df_new_test2RI1 = df_new_test2RI1.reset_index(drop=True)\n",
        "\n",
        "df_new_test2RI2 = df_new_testRI2[['Wave Power']].copy()\n",
        "df_new_test2RI2.columns = ['Wave Power RI']\n",
        "df_new_test2RI2 = df_new_test2RI2.reset_index(drop=True)\n",
        "\n",
        "df_new_test2RI3 = df_new_testRI3[['Wave Power']].copy()\n",
        "df_new_test2RI3.columns = ['Wave Power RI']\n",
        "df_new_test2RI3 = df_new_test2RI3.reset_index(drop=True)\n",
        "\n",
        "df_new_test2RI4 = df_new_testRI4[['Wave Power']].copy()\n",
        "df_new_test2RI4.columns = ['Wave Power RI']\n",
        "df_new_test2RI4 = df_new_test2RI4.reset_index(drop=True)\n",
        "\n",
        "df_new_test2RI5 = df_new_testRI5[['Wave Power']].copy()\n",
        "df_new_test2RI5.columns = ['Wave Power RI']\n",
        "df_new_test2RI5 = df_new_test2RI5.reset_index(drop=True)\n",
        "\n",
        "df_new_test2RI6 = df_new_testRI6[['Wave Power']].copy()\n",
        "df_new_test2RI6.columns = ['Wave Power RI']\n",
        "df_new_test2RI6 = df_new_test2RI6.reset_index(drop=True)\n",
        "\n",
        "df_new_test2RI7 = df_new_testRI7[['Wave Power']].copy()\n",
        "df_new_test2RI7.columns = ['Wave Power RI']\n",
        "df_new_test2RI7 = df_new_test2RI7.reset_index(drop=True)\n",
        "\n",
        "df_new_test2RI8 = df_new_testRI8[['Wave Power']].copy()\n",
        "df_new_test2RI8.columns = ['Wave Power RI']\n",
        "df_new_test2RI8 = df_new_test2RI8.reset_index(drop=True)\n",
        "\n",
        "df_new_test2RI9 = df_new_testRI9[['Wave Power']].copy()\n",
        "df_new_test2RI9.columns = ['Wave Power RI']\n",
        "df_new_test2RI9 = df_new_test2RI9.reset_index(drop=True)\n",
        "\n",
        "df_new_test2RI10 = df_new_testRI10[['Wave Power']].copy()\n",
        "df_new_test2RI10.columns = ['Wave Power RI']\n",
        "df_new_test2RI10 = df_new_test2RI10.reset_index(drop=True)\n",
        "\n",
        "df_new_test2RI11 = df_new_testRI11[['Wave Power']].copy()\n",
        "df_new_test2RI11.columns = ['Wave Power RI']\n",
        "df_new_test2RI11 = df_new_test2RI11.reset_index(drop=True)\n",
        "\n",
        "df_new_test2RI12 = df_new_testRI12[['Wave Power']].copy()\n",
        "df_new_test2RI12.columns = ['Wave Power RI']\n",
        "df_new_test2RI12 = df_new_test2RI12.reset_index(drop=True)\n",
        "df_new_test2RI12.head()"
      ],
      "execution_count": 25,
      "outputs": [
        {
          "output_type": "execute_result",
          "data": {
            "text/html": [
              "<div>\n",
              "<style scoped>\n",
              "    .dataframe tbody tr th:only-of-type {\n",
              "        vertical-align: middle;\n",
              "    }\n",
              "\n",
              "    .dataframe tbody tr th {\n",
              "        vertical-align: top;\n",
              "    }\n",
              "\n",
              "    .dataframe thead th {\n",
              "        text-align: right;\n",
              "    }\n",
              "</style>\n",
              "<table border=\"1\" class=\"dataframe\">\n",
              "  <thead>\n",
              "    <tr style=\"text-align: right;\">\n",
              "      <th></th>\n",
              "      <th>Wave Power RI</th>\n",
              "    </tr>\n",
              "  </thead>\n",
              "  <tbody>\n",
              "    <tr>\n",
              "      <th>0</th>\n",
              "      <td>2921.398602</td>\n",
              "    </tr>\n",
              "    <tr>\n",
              "      <th>1</th>\n",
              "      <td>3452.842692</td>\n",
              "    </tr>\n",
              "    <tr>\n",
              "      <th>2</th>\n",
              "      <td>3336.192601</td>\n",
              "    </tr>\n",
              "    <tr>\n",
              "      <th>3</th>\n",
              "      <td>3675.948245</td>\n",
              "    </tr>\n",
              "    <tr>\n",
              "      <th>4</th>\n",
              "      <td>3308.353420</td>\n",
              "    </tr>\n",
              "  </tbody>\n",
              "</table>\n",
              "</div>"
            ],
            "text/plain": [
              "   Wave Power RI\n",
              "0    2921.398602\n",
              "1    3452.842692\n",
              "2    3336.192601\n",
              "3    3675.948245\n",
              "4    3308.353420"
            ]
          },
          "metadata": {
            "tags": []
          },
          "execution_count": 25
        }
      ]
    },
    {
      "cell_type": "code",
      "metadata": {
        "id": "2t_NeQOcpmlk"
      },
      "source": [
        "#Isolate the necessary month\n",
        "\n",
        "# NEED TO RESET THE INDEX FOR ALL OF THESE!!!\n",
        "\n",
        "\n",
        "df_new_test1 = df.loc[df['MM']=='01']\n",
        "df_new_test2 = df.loc[df['MM']=='02']\n",
        "df_new_test3 = df.loc[df['MM']=='03']\n",
        "df_new_test4 = df.loc[df['MM']=='04']\n",
        "df_new_test5 = df.loc[df['MM']=='05']\n",
        "df_new_test6 = df.loc[df['MM']=='06']\n",
        "df_new_test7 = df.loc[df['MM']=='07']\n",
        "df_new_test8 = df.loc[df['MM']=='08']\n",
        "df_new_test9 = df.loc[df['MM']=='09']\n",
        "df_new_test10 = df.loc[df['MM']=='10']\n",
        "df_new_test11 = df.loc[df['MM']=='11']\n",
        "df_new_test12 = df.loc[df['MM']=='12']\n",
        "\n",
        "#Isolate wave power month 1\n",
        "df_new_test1 = df_new_test1[['Wave Power']].copy()\n",
        "df_new_test1.columns = ['Wave Power NH']\n",
        "df_new_test1 = df_new_test1.reset_index(drop=True)\n",
        "\n",
        "\n",
        "df_new_test2 = df_new_test2[['Wave Power']].copy()\n",
        "df_new_test2.columns = ['Wave Power NH']\n",
        "df_new_test2 = df_new_test2.reset_index(drop=True)\n",
        "\n",
        "df_new_test3 = df_new_test3[['Wave Power']].copy()\n",
        "df_new_test3.columns = ['Wave Power NH']\n",
        "df_new_test3 = df_new_test3.reset_index(drop=True)\n",
        "\n",
        "df_new_test4 = df_new_test4[['Wave Power']].copy()\n",
        "df_new_test4.columns = ['Wave Power NH']\n",
        "df_new_test4 = df_new_test4.reset_index(drop=True)\n",
        "\n",
        "df_new_test5 = df_new_test5[['Wave Power']].copy()\n",
        "df_new_test5.columns = ['Wave Power NH']\n",
        "df_new_test5 = df_new_test5.reset_index(drop=True)\n",
        "\n",
        "df_new_test6 = df_new_test6[['Wave Power']].copy()\n",
        "df_new_test6.columns = ['Wave Power NH']\n",
        "df_new_test6 = df_new_test6.reset_index(drop=True)\n",
        "\n",
        "df_new_test7 = df_new_test7[['Wave Power']].copy()\n",
        "df_new_test7.columns = ['Wave Power NH']\n",
        "df_new_test7 = df_new_test7.reset_index(drop=True)\n",
        "\n",
        "df_new_test8 = df_new_test8[['Wave Power']].copy()\n",
        "df_new_test8.columns = ['Wave Power NH']\n",
        "df_new_test8 = df_new_test8.reset_index(drop=True)\n",
        "\n",
        "df_new_test9 = df_new_test9[['Wave Power']].copy()\n",
        "df_new_test9.columns = ['Wave Power NH']\n",
        "df_new_test9 = df_new_test9.reset_index(drop=True)\n",
        "\n",
        "df_new_test10 = df_new_test10[['Wave Power']].copy()\n",
        "df_new_test10.columns = ['Wave Power NH']\n",
        "df_new_test10 = df_new_test10.reset_index(drop=True)\n",
        "\n",
        "df_new_test11 = df_new_test11[['Wave Power']].copy()\n",
        "df_new_test11.columns = ['Wave Power NH']\n",
        "df_new_test11 = df_new_test11.reset_index(drop=True)\n",
        "\n",
        "df_new_test12 = df_new_test12[['Wave Power']].copy()\n",
        "df_new_test12.columns = ['Wave Power NH']\n",
        "df_new_test12 = df_new_test12.reset_index(drop=True)\n",
        "\n"
      ],
      "execution_count": 26,
      "outputs": []
    },
    {
      "cell_type": "code",
      "metadata": {
        "id": "wdAyiW-1p2Zz",
        "colab": {
          "base_uri": "https://localhost:8080/"
        },
        "outputId": "cd98b7e9-d975-4ccd-81f1-64ec33af89d4"
      },
      "source": [
        "# Combine the wave power NH and RI dataframes for the given months\n",
        "merge_test1 = pd.concat([df_new_test2RI1, df_new_test1], axis=1)\n",
        "merge_test1.head()\n",
        "merge_test1.isnull().sum()\n",
        "\n",
        "# remove the null values\n",
        "merge_test1 = merge_test1.dropna()\n",
        "merge_test1.isnull().sum()\n",
        "\n",
        "# calculate the mean WAVE POWER!\n",
        "df_mean1 = merge_test1[['Wave Power NH', 'Wave Power RI']].mean()\n",
        "print(df_mean1)"
      ],
      "execution_count": 27,
      "outputs": [
        {
          "output_type": "stream",
          "text": [
            "Wave Power NH    5635.970798\n",
            "Wave Power RI    6813.411606\n",
            "dtype: float64\n"
          ],
          "name": "stdout"
        }
      ]
    },
    {
      "cell_type": "code",
      "metadata": {
        "id": "ab5s2-TaOKnN",
        "colab": {
          "base_uri": "https://localhost:8080/"
        },
        "outputId": "7d624579-4e57-413b-836b-ed9a4cbd5baf"
      },
      "source": [
        "# Combine the wave power NH and RI dataframes for the given months\n",
        "merge_test2 = pd.concat([df_new_test2RI2, df_new_test2], axis=1)\n",
        "merge_test2.head()\n",
        "merge_test2.isnull().sum()\n",
        "\n",
        "# remove the null values\n",
        "merge_test2 = merge_test2.dropna()\n",
        "merge_test2.isnull().sum()\n",
        "\n",
        "# calculate the mean WAVE POWER!\n",
        "df_mean2 = merge_test2[['Wave Power NH', 'Wave Power RI']].mean()\n",
        "print(df_mean2)"
      ],
      "execution_count": 28,
      "outputs": [
        {
          "output_type": "stream",
          "text": [
            "Wave Power NH    4695.527841\n",
            "Wave Power RI    5115.324461\n",
            "dtype: float64\n"
          ],
          "name": "stdout"
        }
      ]
    },
    {
      "cell_type": "code",
      "metadata": {
        "id": "ddvs0xtmO5Xo",
        "colab": {
          "base_uri": "https://localhost:8080/"
        },
        "outputId": "eeb97ae1-5b33-4c1d-bf37-7d7ba6b512e8"
      },
      "source": [
        "# Combine the wave power NH and RI dataframes for the given months\n",
        "merge_test3 = pd.concat([df_new_test2RI3, df_new_test3], axis=1)\n",
        "merge_test3.head()\n",
        "merge_test3.isnull().sum()\n",
        "\n",
        "# remove the null values\n",
        "merge_test3 = merge_test3.dropna()\n",
        "merge_test3.isnull().sum()\n",
        "\n",
        "# calculate the mean WAVE POWER!\n",
        "df_mean3 = merge_test3[['Wave Power NH', 'Wave Power RI']].mean()\n",
        "print(df_mean3)"
      ],
      "execution_count": 29,
      "outputs": [
        {
          "output_type": "stream",
          "text": [
            "Wave Power NH    4872.422797\n",
            "Wave Power RI    5211.168313\n",
            "dtype: float64\n"
          ],
          "name": "stdout"
        }
      ]
    },
    {
      "cell_type": "code",
      "metadata": {
        "id": "YaOkKSSXO5sU",
        "colab": {
          "base_uri": "https://localhost:8080/"
        },
        "outputId": "9c954b39-6516-48b0-b4f3-6710b5f5bb19"
      },
      "source": [
        "# Combine the wave power NH and RI dataframes for the given months\n",
        "merge_test4 = pd.concat([df_new_test2RI4, df_new_test4], axis=1)\n",
        "merge_test4.head()\n",
        "merge_test4.isnull().sum()\n",
        "\n",
        "# remove the null values\n",
        "merge_test4 = merge_test4.dropna()\n",
        "merge_test4.isnull().sum()\n",
        "\n",
        "# calculate the mean WAVE POWER!\n",
        "df_mean4 = merge_test4[['Wave Power NH', 'Wave Power RI']].mean()\n",
        "print(df_mean4)"
      ],
      "execution_count": 30,
      "outputs": [
        {
          "output_type": "stream",
          "text": [
            "Wave Power NH    5006.150176\n",
            "Wave Power RI    4762.877656\n",
            "dtype: float64\n"
          ],
          "name": "stdout"
        }
      ]
    },
    {
      "cell_type": "code",
      "metadata": {
        "id": "FbESrzibO7Dm",
        "colab": {
          "base_uri": "https://localhost:8080/"
        },
        "outputId": "2e8dda60-b6c3-4c4e-e1a7-4bece5c83976"
      },
      "source": [
        "# Combine the wave power NH and RI dataframes for the given months\n",
        "merge_test5 = pd.concat([df_new_test2RI5, df_new_test5], axis=1)\n",
        "merge_test5.head()\n",
        "merge_test5.isnull().sum()\n",
        "\n",
        "# remove the null values\n",
        "merge_test5 = merge_test5.dropna()\n",
        "merge_test5.isnull().sum()\n",
        "\n",
        "# calculate the mean WAVE POWER!\n",
        "df_mean5 = merge_test5[['Wave Power NH', 'Wave Power RI']].mean()\n",
        "print(df_mean5)"
      ],
      "execution_count": 31,
      "outputs": [
        {
          "output_type": "stream",
          "text": [
            "Wave Power NH    4331.519058\n",
            "Wave Power RI    4090.991583\n",
            "dtype: float64\n"
          ],
          "name": "stdout"
        }
      ]
    },
    {
      "cell_type": "code",
      "metadata": {
        "id": "7A71LyHCO7Ng",
        "colab": {
          "base_uri": "https://localhost:8080/"
        },
        "outputId": "37226711-1c5e-4abb-96dd-ce07a498501b"
      },
      "source": [
        "# Combine the wave power NH and RI dataframes for the given months\n",
        "merge_test6 = pd.concat([df_new_test2RI6, df_new_test6], axis=1)\n",
        "merge_test6.head()\n",
        "merge_test6.isnull().sum()\n",
        "\n",
        "# remove the null values\n",
        "merge_test6 = merge_test6.dropna()\n",
        "merge_test6.isnull().sum()\n",
        "\n",
        "# calculate the mean WAVE POWER!\n",
        "df_mean6 = merge_test6[['Wave Power NH', 'Wave Power RI']].mean()\n",
        "print(df_mean6)"
      ],
      "execution_count": 32,
      "outputs": [
        {
          "output_type": "stream",
          "text": [
            "Wave Power NH    2659.113928\n",
            "Wave Power RI    3644.444143\n",
            "dtype: float64\n"
          ],
          "name": "stdout"
        }
      ]
    },
    {
      "cell_type": "code",
      "metadata": {
        "id": "OpSSImWTO7W9",
        "colab": {
          "base_uri": "https://localhost:8080/"
        },
        "outputId": "0ccf0c4c-1931-470a-9530-d389b18c469a"
      },
      "source": [
        "# Combine the wave power NH and RI dataframes for the given months\n",
        "merge_test7 = pd.concat([df_new_test2RI7, df_new_test7], axis=1)\n",
        "merge_test7.head()\n",
        "merge_test7.isnull().sum()\n",
        "\n",
        "# remove the null values\n",
        "merge_test7 = merge_test7.dropna()\n",
        "merge_test7.isnull().sum()\n",
        "\n",
        "# calculate the mean WAVE POWER!\n",
        "df_mean7 = merge_test7[['Wave Power NH', 'Wave Power RI']].mean()\n",
        "print(df_mean7)"
      ],
      "execution_count": 33,
      "outputs": [
        {
          "output_type": "stream",
          "text": [
            "Wave Power NH    2488.413026\n",
            "Wave Power RI    3006.838597\n",
            "dtype: float64\n"
          ],
          "name": "stdout"
        }
      ]
    },
    {
      "cell_type": "code",
      "metadata": {
        "id": "881C2oCZO7gz",
        "colab": {
          "base_uri": "https://localhost:8080/"
        },
        "outputId": "9f3f24ad-9718-4c13-f282-ff247eca5578"
      },
      "source": [
        "# Combine the wave power NH and RI dataframes for the given months\n",
        "merge_test8 = pd.concat([df_new_test2RI8, df_new_test8], axis=1)\n",
        "merge_test8.head()\n",
        "merge_test8.isnull().sum()\n",
        "\n",
        "# remove the null values\n",
        "merge_test8 = merge_test8.dropna()\n",
        "merge_test8.isnull().sum()\n",
        "\n",
        "# calculate the mean WAVE POWER!\n",
        "df_mean8 = merge_test8[['Wave Power NH', 'Wave Power RI']].mean()\n",
        "print(df_mean8)"
      ],
      "execution_count": 34,
      "outputs": [
        {
          "output_type": "stream",
          "text": [
            "Wave Power NH    3303.867208\n",
            "Wave Power RI    3652.644795\n",
            "dtype: float64\n"
          ],
          "name": "stdout"
        }
      ]
    },
    {
      "cell_type": "code",
      "metadata": {
        "id": "T5Br5nTGO7pz",
        "colab": {
          "base_uri": "https://localhost:8080/"
        },
        "outputId": "a3c20f4c-57d2-458d-9adf-f8ce2ed07d4b"
      },
      "source": [
        "# Combine the wave power NH and RI dataframes for the given months\n",
        "merge_test9 = pd.concat([df_new_test2RI9, df_new_test9], axis=1)\n",
        "merge_test9.head()\n",
        "merge_test9.isnull().sum()\n",
        "\n",
        "# remove the null values\n",
        "merge_test9 = merge_test9.dropna()\n",
        "merge_test9.isnull().sum()\n",
        "\n",
        "# calculate the mean WAVE POWER!\n",
        "df_mean9 = merge_test9[['Wave Power NH', 'Wave Power RI']].mean()\n",
        "print(df_mean9)"
      ],
      "execution_count": 35,
      "outputs": [
        {
          "output_type": "stream",
          "text": [
            "Wave Power NH    4101.428746\n",
            "Wave Power RI    5264.332292\n",
            "dtype: float64\n"
          ],
          "name": "stdout"
        }
      ]
    },
    {
      "cell_type": "code",
      "metadata": {
        "id": "m8D-uQlpO7zY",
        "colab": {
          "base_uri": "https://localhost:8080/"
        },
        "outputId": "a5c767c2-b18f-45c7-921b-02fe21ff2c02"
      },
      "source": [
        "# Combine the wave power NH and RI dataframes for the given months\n",
        "merge_test10 = pd.concat([df_new_test2RI10, df_new_test10], axis=1)\n",
        "merge_test10.head()\n",
        "merge_test10.isnull().sum()\n",
        "\n",
        "# remove the null values\n",
        "merge_test10 = merge_test10.dropna()\n",
        "merge_test10.isnull().sum()\n",
        "\n",
        "# calculate the mean WAVE POWER!\n",
        "df_mean10 = merge_test10[['Wave Power NH', 'Wave Power RI']].mean()\n",
        "print(df_mean10)"
      ],
      "execution_count": 36,
      "outputs": [
        {
          "output_type": "stream",
          "text": [
            "Wave Power NH    8234.950091\n",
            "Wave Power RI    7790.902868\n",
            "dtype: float64\n"
          ],
          "name": "stdout"
        }
      ]
    },
    {
      "cell_type": "code",
      "metadata": {
        "id": "VceK7lmQO78j",
        "colab": {
          "base_uri": "https://localhost:8080/"
        },
        "outputId": "cb0b2a6d-27fe-46da-efcb-4407cd000e40"
      },
      "source": [
        "# Combine the wave power NH and RI dataframes for the given months\n",
        "merge_test11 = pd.concat([df_new_test2RI11, df_new_test11], axis=1)\n",
        "merge_test11.head()\n",
        "merge_test11.isnull().sum()\n",
        "\n",
        "# remove the null values\n",
        "merge_test11 = merge_test11.dropna()\n",
        "merge_test11.isnull().sum()\n",
        "\n",
        "# calculate the mean WAVE POWER!\n",
        "df_mean11 = merge_test11[['Wave Power NH', 'Wave Power RI']].mean()\n",
        "print(df_mean11)"
      ],
      "execution_count": 37,
      "outputs": [
        {
          "output_type": "stream",
          "text": [
            "Wave Power NH    5747.266070\n",
            "Wave Power RI    6155.032946\n",
            "dtype: float64\n"
          ],
          "name": "stdout"
        }
      ]
    },
    {
      "cell_type": "code",
      "metadata": {
        "id": "B2UAETFmO8E6",
        "colab": {
          "base_uri": "https://localhost:8080/"
        },
        "outputId": "fcf2caf7-452b-421f-a47a-a5cb2a9a8974"
      },
      "source": [
        "# Combine the wave power NH and RI dataframes for the given months\n",
        "merge_test12 = pd.concat([df_new_test2RI12, df_new_test12], axis=1)\n",
        "merge_test12.head()\n",
        "merge_test12.isnull().sum()\n",
        "\n",
        "# remove the null values\n",
        "merge_test12 = merge_test12.dropna()\n",
        "merge_test12.isnull().sum()\n",
        "\n",
        "# calculate the mean WAVE POWER!\n",
        "df_mean12 = merge_test12[['Wave Power NH', 'Wave Power RI']].mean()\n",
        "print(df_mean12)"
      ],
      "execution_count": 38,
      "outputs": [
        {
          "output_type": "stream",
          "text": [
            "Wave Power NH    6087.974561\n",
            "Wave Power RI    6776.659071\n",
            "dtype: float64\n"
          ],
          "name": "stdout"
        }
      ]
    },
    {
      "cell_type": "code",
      "metadata": {
        "id": "Zv4QV3_16gt2",
        "colab": {
          "base_uri": "https://localhost:8080/"
        },
        "outputId": "0233e452-7c46-41d3-9607-418e50838595"
      },
      "source": [
        "#combine all of the mean power values into a column and create a column of month values\n",
        "Month = ['January', 'February', 'March', 'April', 'May', 'June', 'July', 'August', 'September', 'October', 'November', 'December']\n",
        "mean_nh = [df_mean1[0], df_mean2[0], df_mean3[0], df_mean4[0], df_mean5[0], df_mean6[0], df_mean7[0], df_mean8[0], df_mean9[0], df_mean10[0], df_mean11[0], df_mean12[0]]\n",
        "mean_ri = [df_mean1[1], df_mean2[1], df_mean3[1], df_mean4[1], df_mean5[1], df_mean6[1], df_mean7[1], df_mean8[1], df_mean9[1], df_mean10[1], df_mean11[1], df_mean12[1]]\n",
        "\n",
        "print(mean_nh)\n",
        "print(mean_ri)\n",
        "print(Month)"
      ],
      "execution_count": 39,
      "outputs": [
        {
          "output_type": "stream",
          "text": [
            "[5635.970798342868, 4695.527840638817, 4872.422797217975, 5006.150176155771, 4331.5190582684845, 2659.1139280975017, 2488.4130261876803, 3303.867208337179, 4101.428746238481, 8234.95009061587, 5747.266070035804, 6087.97456113648]\n",
            "[6813.411606454507, 5115.324460638174, 5211.168313061068, 4762.877655626135, 4090.991583045448, 3644.4441427609095, 3006.838597259911, 3652.6447945734867, 5264.332292109703, 7790.902867935504, 6155.03294617319, 6776.659070855742]\n",
            "['January', 'February', 'March', 'April', 'May', 'June', 'July', 'August', 'September', 'October', 'November', 'December']\n"
          ],
          "name": "stdout"
        }
      ]
    },
    {
      "cell_type": "code",
      "metadata": {
        "id": "WO63mIolAFeb",
        "colab": {
          "base_uri": "https://localhost:8080/",
          "height": 421
        },
        "outputId": "3fafa9fc-9bb7-4e59-8f6e-cd3a17d3d38f"
      },
      "source": [
        "list_of_tuples = list(zip(Month, mean_nh, mean_ri))\n",
        "df_final = pd.DataFrame(list_of_tuples, columns = ['Month', 'Mean Wave Power NH', 'Mean Wave Power RI'])\n",
        "df_final.head(12)"
      ],
      "execution_count": 40,
      "outputs": [
        {
          "output_type": "execute_result",
          "data": {
            "text/html": [
              "<div>\n",
              "<style scoped>\n",
              "    .dataframe tbody tr th:only-of-type {\n",
              "        vertical-align: middle;\n",
              "    }\n",
              "\n",
              "    .dataframe tbody tr th {\n",
              "        vertical-align: top;\n",
              "    }\n",
              "\n",
              "    .dataframe thead th {\n",
              "        text-align: right;\n",
              "    }\n",
              "</style>\n",
              "<table border=\"1\" class=\"dataframe\">\n",
              "  <thead>\n",
              "    <tr style=\"text-align: right;\">\n",
              "      <th></th>\n",
              "      <th>Month</th>\n",
              "      <th>Mean Wave Power NH</th>\n",
              "      <th>Mean Wave Power RI</th>\n",
              "    </tr>\n",
              "  </thead>\n",
              "  <tbody>\n",
              "    <tr>\n",
              "      <th>0</th>\n",
              "      <td>January</td>\n",
              "      <td>5635.970798</td>\n",
              "      <td>6813.411606</td>\n",
              "    </tr>\n",
              "    <tr>\n",
              "      <th>1</th>\n",
              "      <td>February</td>\n",
              "      <td>4695.527841</td>\n",
              "      <td>5115.324461</td>\n",
              "    </tr>\n",
              "    <tr>\n",
              "      <th>2</th>\n",
              "      <td>March</td>\n",
              "      <td>4872.422797</td>\n",
              "      <td>5211.168313</td>\n",
              "    </tr>\n",
              "    <tr>\n",
              "      <th>3</th>\n",
              "      <td>April</td>\n",
              "      <td>5006.150176</td>\n",
              "      <td>4762.877656</td>\n",
              "    </tr>\n",
              "    <tr>\n",
              "      <th>4</th>\n",
              "      <td>May</td>\n",
              "      <td>4331.519058</td>\n",
              "      <td>4090.991583</td>\n",
              "    </tr>\n",
              "    <tr>\n",
              "      <th>5</th>\n",
              "      <td>June</td>\n",
              "      <td>2659.113928</td>\n",
              "      <td>3644.444143</td>\n",
              "    </tr>\n",
              "    <tr>\n",
              "      <th>6</th>\n",
              "      <td>July</td>\n",
              "      <td>2488.413026</td>\n",
              "      <td>3006.838597</td>\n",
              "    </tr>\n",
              "    <tr>\n",
              "      <th>7</th>\n",
              "      <td>August</td>\n",
              "      <td>3303.867208</td>\n",
              "      <td>3652.644795</td>\n",
              "    </tr>\n",
              "    <tr>\n",
              "      <th>8</th>\n",
              "      <td>September</td>\n",
              "      <td>4101.428746</td>\n",
              "      <td>5264.332292</td>\n",
              "    </tr>\n",
              "    <tr>\n",
              "      <th>9</th>\n",
              "      <td>October</td>\n",
              "      <td>8234.950091</td>\n",
              "      <td>7790.902868</td>\n",
              "    </tr>\n",
              "    <tr>\n",
              "      <th>10</th>\n",
              "      <td>November</td>\n",
              "      <td>5747.266070</td>\n",
              "      <td>6155.032946</td>\n",
              "    </tr>\n",
              "    <tr>\n",
              "      <th>11</th>\n",
              "      <td>December</td>\n",
              "      <td>6087.974561</td>\n",
              "      <td>6776.659071</td>\n",
              "    </tr>\n",
              "  </tbody>\n",
              "</table>\n",
              "</div>"
            ],
            "text/plain": [
              "        Month  Mean Wave Power NH  Mean Wave Power RI\n",
              "0     January         5635.970798         6813.411606\n",
              "1    February         4695.527841         5115.324461\n",
              "2       March         4872.422797         5211.168313\n",
              "3       April         5006.150176         4762.877656\n",
              "4         May         4331.519058         4090.991583\n",
              "5        June         2659.113928         3644.444143\n",
              "6        July         2488.413026         3006.838597\n",
              "7      August         3303.867208         3652.644795\n",
              "8   September         4101.428746         5264.332292\n",
              "9     October         8234.950091         7790.902868\n",
              "10   November         5747.266070         6155.032946\n",
              "11   December         6087.974561         6776.659071"
            ]
          },
          "metadata": {
            "tags": []
          },
          "execution_count": 40
        }
      ]
    },
    {
      "cell_type": "code",
      "metadata": {
        "id": "hCvzRpnEUoC6",
        "colab": {
          "base_uri": "https://localhost:8080/",
          "height": 295
        },
        "outputId": "7bfe0c60-4a8b-4b2f-8abf-55252fa0c9b6"
      },
      "source": [
        "index = np.arange(12)\n",
        "bar_width = 0.35\n",
        "\n",
        "fig, ax = plt.subplots()\n",
        "RI = ax.bar(index-(bar_width/2), df_final['Mean Wave Power RI'], bar_width,\n",
        "                label='RI')\n",
        "\n",
        "NH = ax.bar(index+(bar_width/2), df_final['Mean Wave Power NH'], bar_width,\n",
        "                label='NH')\n",
        "\n",
        "ax.set_title('Average Wave Power in NH vs. RI (2019)', weight='bold', fontsize=12)\n",
        "ax.set_ylabel('Average Wave Power per unit Crest (Watts)')\n",
        "ax.set_xlabel('Month of the Year')\n",
        "#ax.set_xticklabels(index + (bar_width/2) ,['01', '02', '03', '04', '05', '06', '07', '08', '09', '10', '11', '12'])\n",
        "ax.set_xticklabels(['Jan', 'Jan', 'Mar', 'May', 'Jul', 'Sept', 'Nov'])\n",
        "ax.legend()\n",
        "\n",
        "\n",
        "plt.show()"
      ],
      "execution_count": 41,
      "outputs": [
        {
          "output_type": "display_data",
          "data": {
            "image/png": "[encoded data removed]",
            "text/plain": [
              "<Figure size 432x288 with 1 Axes>"
            ]
          },
          "metadata": {
            "tags": [],
            "needs_background": "light"
          }
        }
      ]
    },
    {
      "cell_type": "code",
      "metadata": {
        "id": "T0wi6BOZMhes",
        "colab": {
          "base_uri": "https://localhost:8080/",
          "height": 312
        },
        "outputId": "16cb7030-f6a4-4d44-dff6-21ae97739a5b"
      },
      "source": [
        "import seaborn as sns\n",
        "\n",
        "ax = sns.regplot(x='DPD', y='WVHT', data=df, ci=None)\n",
        "ax.set_title('Correlation of Wave Height and Wave Period (NDBC 44098)')\n",
        "ax.set_xlabel('Wave Period (s)')\n",
        "ax.set_ylabel('Wave Height (m)')"
      ],
      "execution_count": 42,
      "outputs": [
        {
          "output_type": "execute_result",
          "data": {
            "text/plain": [
              "Text(0, 0.5, 'Wave Height (m)')"
            ]
          },
          "metadata": {
            "tags": []
          },
          "execution_count": 42
        },
        {
          "output_type": "display_data",
          "data": {
            "image/png": "[encoded data removed]",
            "text/plain": [
              "<Figure size 432x288 with 1 Axes>"
            ]
          },
          "metadata": {
            "tags": [],
            "needs_background": "light"
          }
        }
      ]
    },
    {
      "cell_type": "code",
      "metadata": {
        "id": "Nf2qblZFM_mb",
        "colab": {
          "base_uri": "https://localhost:8080/",
          "height": 279
        },
        "outputId": "2017a73d-0a16-44b7-866a-4f289c747d6b"
      },
      "source": [
        "import seaborn as sns\n",
        "\n",
        "ax = sns.regplot(x='DPD', y='WVHT', data=dfRI, ci=None)"
      ],
      "execution_count": 43,
      "outputs": [
        {
          "output_type": "display_data",
          "data": {
            "image/png": "[encoded data removed]",
            "text/plain": [
              "<Figure size 432x288 with 1 Axes>"
            ]
          },
          "metadata": {
            "tags": [],
            "needs_background": "light"
          }
        }
      ]
    },
    {
      "cell_type": "code",
      "metadata": {
        "id": "Hjk9gXM3M35y",
        "colab": {
          "base_uri": "https://localhost:8080/"
        },
        "outputId": "b6969cb8-3221-40d9-ce77-10780213973e"
      },
      "source": [
        "r = np.corrcoef(df['DPD'], df['WVHT'])\n",
        "print(r)"
      ],
      "execution_count": 44,
      "outputs": [
        {
          "output_type": "stream",
          "text": [
            "[[1.         0.10895748]\n",
            " [0.10895748 1.        ]]\n"
          ],
          "name": "stdout"
        }
      ]
    }
  ]
}